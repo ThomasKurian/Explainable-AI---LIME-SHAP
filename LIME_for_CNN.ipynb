{
  "nbformat": 4,
  "nbformat_minor": 0,
  "metadata": {
    "colab": {
      "name": "LIME for CNN.ipynb",
      "provenance": [],
      "collapsed_sections": []
    },
    "kernelspec": {
      "name": "python3",
      "display_name": "Python 3"
    },
    "language_info": {
      "name": "python"
    }
  },
  "cells": [
    {
      "cell_type": "code",
      "metadata": {
        "id": "4dgERD8twLtr"
      },
      "source": [
        "import tensorflow as tf\n",
        "from tensorflow import keras\n",
        "from tensorflow.keras import layers\n",
        "from tensorflow.keras.datasets import mnist"
      ],
      "execution_count": null,
      "outputs": []
    },
    {
      "cell_type": "code",
      "metadata": {
        "id": "L3mRlcyTWkZ1"
      },
      "source": [
        "(x_train, y_train), (x_test, y_test) = mnist.load_data()\n",
        "x_train = x_train.reshape((-1,28,28,1)).astype('float32') / 255.0\n",
        "x_test = x_test.reshape((-1,28,28,1)).astype('float32') / 255.0\n"
      ],
      "execution_count": null,
      "outputs": []
    },
    {
      "cell_type": "code",
      "metadata": {
        "id": "UjieMoWgWklo"
      },
      "source": [
        "import numpy as np\n",
        "def to_rgb(x):\n",
        "    x_rgb = np.zeros((x.shape[0], 28, 28, 3))\n",
        "    for i in range(3):\n",
        "        x_rgb[..., i] = x[..., 0]\n",
        "    return x_rgb\n",
        "x_train = to_rgb(x_train)\n",
        "x_test = to_rgb(x_test)"
      ],
      "execution_count": null,
      "outputs": []
    },
    {
      "cell_type": "code",
      "metadata": {
        "id": "FgbjWIjuWkpG"
      },
      "source": [
        "model = keras.Sequential(\n",
        "    [\n",
        "     keras.Input(shape=(28,28,3)),\n",
        "     layers.Conv2D(16, 3, activation='relu'),\n",
        "     layers.MaxPooling2D(),\n",
        "     layers.Flatten(),\n",
        "     layers.Dense(10)\n",
        "    ]\n",
        ")\n"
      ],
      "execution_count": null,
      "outputs": []
    },
    {
      "cell_type": "code",
      "metadata": {
        "id": "WKBczcL5Wks7"
      },
      "source": [
        "model.compile(\n",
        "  loss=keras.losses.SparseCategoricalCrossentropy(from_logits=True),\n",
        "  optimizer=keras.optimizers.Adam(),\n",
        "  metrics=['accuracy']\n",
        ")"
      ],
      "execution_count": null,
      "outputs": []
    },
    {
      "cell_type": "code",
      "metadata": {
        "id": "ulr7MxhFW__J"
      },
      "source": [
        "model.fit(\n",
        "        x_train, \n",
        "        y_train, \n",
        "        epochs=2, \n",
        "        batch_size=32, \n",
        "        validation_data = (x_test, y_test))\n"
      ],
      "execution_count": null,
      "outputs": []
    },
    {
      "cell_type": "code",
      "metadata": {
        "id": "W2F3XDcnXAB6"
      },
      "source": [
        "pip install lime\n",
        "import lime\n",
        "from lime import lime_image\n",
        "from skimage.segmentation import mark_boundaries\n",
        "import matplotlib.pyplot as plt\n",
        "import random\n"
      ],
      "execution_count": null,
      "outputs": []
    },
    {
      "cell_type": "code",
      "metadata": {
        "id": "QqibqCc-XAHP"
      },
      "source": [
        "nn = 899\n",
        "\n",
        "explainer = lime_image.LimeImageExplainer(random_state=42)\n",
        "explanation = explainer.explain_instance(\n",
        "         x_train[nn], \n",
        "         model.predict\n",
        ")\n",
        "plt.imshow(x_train[nn])\n",
        "image, mask = explanation.get_image_and_mask(\n",
        "         model.predict(\n",
        "              x_train[nn].reshape((1,28,28,3))\n",
        "         ).argmax(axis=1)[0],\n",
        "         positive_only=True, \n",
        "         hide_rest=False)\n",
        "plt.imshow(mark_boundaries(image, mask))\n",
        "plt.savefig('3.png')\n"
      ],
      "execution_count": null,
      "outputs": []
    },
    {
      "cell_type": "markdown",
      "source": [
        "41,45,49,89,291"
      ],
      "metadata": {
        "id": "mYjamiOyQPfh"
      }
    },
    {
      "cell_type": "code",
      "metadata": {
        "id": "Zbk9PRJWXAKC"
      },
      "source": [
        ""
      ],
      "execution_count": null,
      "outputs": []
    },
    {
      "cell_type": "code",
      "source": [
        ""
      ],
      "metadata": {
        "id": "tHguOuqzPwxA"
      },
      "execution_count": null,
      "outputs": []
    }
  ]
}