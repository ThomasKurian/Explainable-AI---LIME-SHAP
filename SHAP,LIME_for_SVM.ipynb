{
 "cells": [
  {
   "cell_type": "code",
   "execution_count": null,
   "id": "e54d56f6",
   "metadata": {},
   "outputs": [],
   "source": [
    "import numpy as np\n",
    "import pandas as pd\n",
    "import seaborn as sns  "
   ]
  },
  {
   "cell_type": "code",
   "execution_count": null,
   "id": "435702a0",
   "metadata": {},
   "outputs": [],
   "source": [
    "from sklearn.datasets import load_breast_cancer\n",
    "data = load_breast_cancer()\n"
   ]
  },
  {
   "cell_type": "code",
   "execution_count": null,
   "id": "358a656d",
   "metadata": {},
   "outputs": [],
   "source": [
    "data.keys()"
   ]
  },
  {
   "cell_type": "code",
   "execution_count": null,
   "id": "fb6c93e0",
   "metadata": {},
   "outputs": [],
   "source": [
    "data['feature_names'][:10]"
   ]
  },
  {
   "cell_type": "code",
   "execution_count": null,
   "id": "dca12d9a",
   "metadata": {},
   "outputs": [],
   "source": [
    "data['target_names']"
   ]
  },
  {
   "cell_type": "code",
   "execution_count": null,
   "id": "c0188245",
   "metadata": {},
   "outputs": [],
   "source": [
    "selected_features = data['feature_names'][:10]\n",
    "data_df = pd.DataFrame(data['data'], columns = data['feature_names'])[selected_features]\n",
    "data_df['target'] = data['target']\n",
    "data_df = data_df.sample(frac = 1)"
   ]
  },
  {
   "cell_type": "code",
   "execution_count": null,
   "id": "1d0b16cf",
   "metadata": {},
   "outputs": [],
   "source": [
    "data_df"
   ]
  },
  {
   "cell_type": "code",
   "execution_count": null,
   "id": "b7c1aa1a",
   "metadata": {},
   "outputs": [],
   "source": [
    "x_train = data_df.iloc[:400][selected_features]\n",
    "y_train = data_df.iloc[:400]['target']\n",
    "x_test = data_df.iloc[400:][selected_features]\n",
    "y_test = data_df.iloc[400:]['target']"
   ]
  },
  {
   "cell_type": "code",
   "execution_count": null,
   "id": "59c8e8a0",
   "metadata": {},
   "outputs": [],
   "source": [
    "from sklearn import svm\n",
    "\n",
    "clf = svm.SVC(kernel='linear', C=1,probability=True)\n",
    "clf_fit = clf.fit(x_train, y_train)\n",
    "y_pred= clf_fit.predict(x_test)"
   ]
  },
  {
   "cell_type": "code",
   "execution_count": null,
   "id": "b54bfdba",
   "metadata": {},
   "outputs": [],
   "source": [
    "from sklearn.metrics import accuracy_score\n",
    "\n",
    "# accuracy: (tp + tn) / (p + n)\n",
    "accuracy = accuracy_score(y_test, y_pred)\n",
    "print('Accuracy: %f' % accuracy)"
   ]
  },
  {
   "cell_type": "code",
   "execution_count": null,
   "id": "4ce6ed52",
   "metadata": {},
   "outputs": [],
   "source": [
    "from sklearn.metrics import plot_roc_curve\n",
    "from sklearn.exceptions import NotFittedError\n",
    "import matplotlib.pyplot as plt\n",
    "%matplotlib inline\n",
    "disp = plot_roc_curve(clf_fit,x_test,y_test)"
   ]
  },
  {
   "cell_type": "markdown",
   "id": "ee5ee96b",
   "metadata": {},
   "source": [
    "# LIME SVM"
   ]
  },
  {
   "cell_type": "code",
   "execution_count": null,
   "id": "9c49f611",
   "metadata": {},
   "outputs": [],
   "source": [
    "import lime\n",
    "import lime.lime_tabular\n"
   ]
  },
  {
   "cell_type": "code",
   "execution_count": null,
   "id": "b198a4fb",
   "metadata": {},
   "outputs": [],
   "source": [
    "explainer = lime.lime_tabular.LimeTabularExplainer(np.array(x_train),\n",
    "                    feature_names = list(data['feature_names'][:10]),\n",
    "                    class_names=['malignant', 'benign'],                            \n",
    "                    verbose=True, mode='classification')\n"
   ]
  },
  {
   "cell_type": "code",
   "execution_count": null,
   "id": "9fe35f75",
   "metadata": {},
   "outputs": [],
   "source": [
    "exp = explainer.explain_instance(x_test.iloc[0], clf_fit.predict_proba, num_features=10)\n",
    "exp.show_in_notebook(show_table=True, show_all=False)\n",
    "exp.save_to_file('svm_lime_1.html')"
   ]
  },
  {
   "cell_type": "code",
   "execution_count": null,
   "id": "11669521",
   "metadata": {},
   "outputs": [],
   "source": [
    "exp = explainer.explain_instance(x_test.iloc[80], clf_fit.predict_proba, num_features=10)\n",
    "exp.show_in_notebook(show_table=True, show_all=False)\n",
    "exp.save_to_file('svm_lime_2.html')"
   ]
  },
  {
   "cell_type": "code",
   "execution_count": null,
   "id": "e1db465b",
   "metadata": {},
   "outputs": [],
   "source": []
  },
  {
   "cell_type": "code",
   "execution_count": null,
   "id": "a5dabdf8",
   "metadata": {},
   "outputs": [],
   "source": []
  },
  {
   "cell_type": "markdown",
   "id": "3eaba71b",
   "metadata": {},
   "source": [
    "# SHAP SVM"
   ]
  },
  {
   "cell_type": "code",
   "execution_count": null,
   "id": "5089e058",
   "metadata": {},
   "outputs": [],
   "source": [
    "import shap"
   ]
  },
  {
   "cell_type": "code",
   "execution_count": null,
   "id": "bdb044b3",
   "metadata": {},
   "outputs": [],
   "source": [
    "svm_explainer = shap.KernelExplainer(clf_fit.predict,x_test)\n",
    "svm_shap_values = svm_explainer.shap_values(x_test)"
   ]
  },
  {
   "cell_type": "code",
   "execution_count": null,
   "id": "2e698d35",
   "metadata": {},
   "outputs": [],
   "source": [
    "shap.summary_plot(svm_shap_values, x_test)"
   ]
  },
  {
   "cell_type": "code",
   "execution_count": null,
   "id": "a1b7b8e5",
   "metadata": {},
   "outputs": [],
   "source": []
  }
 ],
 "metadata": {
  "kernelspec": {
   "display_name": "Python 3",
   "language": "python",
   "name": "python3"
  },
  "language_info": {
   "codemirror_mode": {
    "name": "ipython",
    "version": 3
   },
   "file_extension": ".py",
   "mimetype": "text/x-python",
   "name": "python",
   "nbconvert_exporter": "python",
   "pygments_lexer": "ipython3",
   "version": "3.8.8"
  }
 },
 "nbformat": 4,
 "nbformat_minor": 5
}
